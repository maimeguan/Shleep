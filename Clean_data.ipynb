{
 "cells": [
  {
   "cell_type": "markdown",
   "metadata": {},
   "source": [
    "## This notebook cleans and prepares the data tables provided from the startup:\n",
    "\n",
    "1) user account creation data <br>\n",
    "2) user answers to the pre-assessment questions <br>\n",
    "3) answer key for pre-assessment questions <br>\n",
    "4) question key for pre-assessment questions <br>\n",
    "4) sleep tracker data <br>"
   ]
  },
  {
   "cell_type": "code",
   "execution_count": 2,
   "metadata": {},
   "outputs": [],
   "source": [
    "import pandas as pd\n",
    "import numpy as np\n",
    "import matplotlib.pyplot as plt\n",
    "import seaborn as sns\n",
    "from scipy import stats\n",
    "from sklearn.decomposition import PCA\n",
    "\n",
    "from ipywidgets import FloatProgress\n",
    "from IPython.display import display\n",
    "import time\n",
    "\n",
    "from IPython.core.interactiveshell import InteractiveShell\n",
    "InteractiveShell.ast_node_interactivity = \"all\""
   ]
  },
  {
   "cell_type": "markdown",
   "metadata": {},
   "source": [
    "# Read in data\n",
    "\n",
    "Read data from the three tables: <br>\n",
    "1) users' unique app data at account creation <br>\n",
    "2) user answers to the pre-assessment questions <br>\n",
    "3) answer key for pre-assessment questions (possible answers to all questions) <br>"
   ]
  },
  {
   "cell_type": "code",
   "execution_count": 5,
   "metadata": {
    "scrolled": true
   },
   "outputs": [
    {
     "data": {
      "text/plain": [
       "array([55, 56, 57, 58, 59, 60, 61, 62, 63, 64, 65, 66, 67, 68, 69, 70, 71,\n",
       "       72, 73, 74, 75, 76, 77])"
      ]
     },
     "execution_count": 5,
     "metadata": {},
     "output_type": "execute_result"
    },
    {
     "data": {
      "text/html": [
       "<div>\n",
       "<style scoped>\n",
       "    .dataframe tbody tr th:only-of-type {\n",
       "        vertical-align: middle;\n",
       "    }\n",
       "\n",
       "    .dataframe tbody tr th {\n",
       "        vertical-align: top;\n",
       "    }\n",
       "\n",
       "    .dataframe thead th {\n",
       "        text-align: right;\n",
       "    }\n",
       "</style>\n",
       "<table border=\"1\" class=\"dataframe\">\n",
       "  <thead>\n",
       "    <tr style=\"text-align: right;\">\n",
       "      <th></th>\n",
       "      <th>user_id</th>\n",
       "      <th>question_id</th>\n",
       "      <th>value</th>\n",
       "    </tr>\n",
       "  </thead>\n",
       "  <tbody>\n",
       "    <tr>\n",
       "      <th>628954</th>\n",
       "      <td>1</td>\n",
       "      <td>55</td>\n",
       "      <td>9.5</td>\n",
       "    </tr>\n",
       "    <tr>\n",
       "      <th>628956</th>\n",
       "      <td>1</td>\n",
       "      <td>56</td>\n",
       "      <td>8</td>\n",
       "    </tr>\n",
       "    <tr>\n",
       "      <th>628962</th>\n",
       "      <td>1</td>\n",
       "      <td>59</td>\n",
       "      <td>Sit in a car/train/plane/bus/etc.</td>\n",
       "    </tr>\n",
       "    <tr>\n",
       "      <th>628963</th>\n",
       "      <td>1</td>\n",
       "      <td>60</td>\n",
       "      <td>Rarely</td>\n",
       "    </tr>\n",
       "    <tr>\n",
       "      <th>628964</th>\n",
       "      <td>1</td>\n",
       "      <td>61</td>\n",
       "      <td>I want to learn more about sleep</td>\n",
       "    </tr>\n",
       "  </tbody>\n",
       "</table>\n",
       "</div>"
      ],
      "text/plain": [
       "        user_id  question_id                              value\n",
       "628954        1           55                                9.5\n",
       "628956        1           56                                  8\n",
       "628962        1           59  Sit in a car/train/plane/bus/etc.\n",
       "628963        1           60                             Rarely\n",
       "628964        1           61   I want to learn more about sleep"
      ]
     },
     "execution_count": 5,
     "metadata": {},
     "output_type": "execute_result"
    }
   ],
   "source": [
    "# user initial app data\n",
    "users_initial = pd.read_csv(\"//Users/Maime/Dropbox/Me/Insight/Shleep/user_data/users-anon.csv\")\n",
    "# user's answers to all questions\n",
    "answers = pd.read_csv(\"//Users/Maime/Dropbox/Me/Insight/Shleep/user_data/user_question_answers.csv\")\n",
    "# key of all possible answers users can give in pre-assessment\n",
    "answer_key = pd.read_csv(\"//Users/Maime/Dropbox/Me/Insight/Shleep/user_data/answers.csv\")\n",
    "\n",
    "# there are 3 versions of the pre-assessment, only use 2nd and 3rd\n",
    "V2_users = answers[answers['question_id'] == 52]['user_id'].unique()\n",
    "V3_users = answers[answers['question_id'] == 73]['user_id'].unique()\n",
    "unique_user_ids = np.append(V2_users, V3_users)\n",
    "# since V2 and V3 pre-assessments are identical aside from gender, we can recode the question_id to be the same\n",
    "V2_question_id = list(range(35, 53))\n",
    "V3_question_id = list(range(55, 74))\n",
    "V3_question_id.remove(58)\n",
    "\n",
    "# new dataframe with just users who completed V2 or V3\n",
    "answers.question_id.replace(V2_question_id, V3_question_id, inplace = True)\n",
    "answers_complete = answers.loc[answers['user_id'].isin(unique_user_ids)]\n",
    "answers_complete = answers_complete.sort_values(['user_id', 'question_id'])\n",
    "# remove rows with question_id 1-54\n",
    "temp = range(1, 55)\n",
    "for q in temp:\n",
    "    answers_complete = answers_complete[answers_complete.question_id != q]\n",
    "# which question_id's are still left?\n",
    "temp = answers_complete['question_id'].unique()\n",
    "np.sort(temp)\n",
    "\n",
    "# also remove rows with question_id 74-77\n",
    "temp = range(74, 78)\n",
    "for q in temp:\n",
    "    answers_complete = answers_complete[answers_complete.question_id != q]\n",
    "\n",
    "# first remove unnecessary columns\n",
    "answers_complete = answers_complete.drop(columns = ['score', 'user_scan_id'])\n",
    "answers_long = answers_complete[['user_id', 'question_id', 'value']]\n",
    "\n",
    "# get only questions 55-73\n",
    "categorical_q = range(55, 74)\n",
    "answers_long = answers_long[answers_long['question_id'].isin(categorical_q)]\n",
    "\n",
    "# include only users that have completed everything\n",
    "answers_long = answers_long[answers_long['user_id'].isin(unique_user_ids)]\n",
    "answers_long.head()"
   ]
  },
  {
   "cell_type": "code",
   "execution_count": null,
   "metadata": {},
   "outputs": [],
   "source": [
    "# save answers in long format to csv\n",
    "answers_long.to_csv('answers_long.csv')"
   ]
  },
  {
   "cell_type": "markdown",
   "metadata": {},
   "source": [
    "# Create dictionary of answer keys\n",
    "\n",
    "Create a dictionary that points to separate tables for answer keys for each pre-assessment question."
   ]
  },
  {
   "cell_type": "code",
   "execution_count": 7,
   "metadata": {},
   "outputs": [
    {
     "data": {
      "text/plain": [
       "(64, 2)"
      ]
     },
     "execution_count": 7,
     "metadata": {},
     "output_type": "execute_result"
    },
    {
     "data": {
      "text/html": [
       "<div>\n",
       "<style scoped>\n",
       "    .dataframe tbody tr th:only-of-type {\n",
       "        vertical-align: middle;\n",
       "    }\n",
       "\n",
       "    .dataframe tbody tr th {\n",
       "        vertical-align: top;\n",
       "    }\n",
       "\n",
       "    .dataframe thead th {\n",
       "        text-align: right;\n",
       "    }\n",
       "</style>\n",
       "<table border=\"1\" class=\"dataframe\">\n",
       "  <thead>\n",
       "    <tr style=\"text-align: right;\">\n",
       "      <th></th>\n",
       "      <th>question_id</th>\n",
       "      <th>value</th>\n",
       "    </tr>\n",
       "  </thead>\n",
       "  <tbody>\n",
       "    <tr>\n",
       "      <th>146</th>\n",
       "      <td>58</td>\n",
       "      <td>Woman</td>\n",
       "    </tr>\n",
       "    <tr>\n",
       "      <th>147</th>\n",
       "      <td>58</td>\n",
       "      <td>Man</td>\n",
       "    </tr>\n",
       "    <tr>\n",
       "      <th>148</th>\n",
       "      <td>58</td>\n",
       "      <td>Other</td>\n",
       "    </tr>\n",
       "  </tbody>\n",
       "</table>\n",
       "</div>"
      ],
      "text/plain": [
       "     question_id  value\n",
       "146           58  Woman\n",
       "147           58    Man\n",
       "148           58  Other"
      ]
     },
     "execution_count": 7,
     "metadata": {},
     "output_type": "execute_result"
    }
   ],
   "source": [
    "# subset answer key\n",
    "answer_key = answer_key[answer_key.question_id.isin(categorical_q)]\n",
    "answer_key = answer_key[['question_id', 'value']]\n",
    "answer_key.shape\n",
    "\n",
    "# initialize answer key dictionary\n",
    "answer_key_dict = {}\n",
    "\n",
    "# group answer key by question_id\n",
    "gp = answer_key.groupby('question_id')\n",
    "for grp in gp.groups:\n",
    "    answer_key_dict[str(grp)] = answer_key.loc[gp.groups[grp]]\n",
    "\n",
    "answer_key_dict['58'] # ex: small df for question_id 58"
   ]
  },
  {
   "cell_type": "code",
   "execution_count": null,
   "metadata": {},
   "outputs": [],
   "source": []
  },
  {
   "cell_type": "markdown",
   "metadata": {},
   "source": [
    "# Reshape user answers from long to wide format\n",
    "\n",
    "Currently, the data are in long format where each row is a question and its answer. Need to convert this to wide format where each row is a user, and each column is an answer for that particular question."
   ]
  },
  {
   "cell_type": "code",
   "execution_count": 9,
   "metadata": {},
   "outputs": [],
   "source": [
    "# column names in users table\n",
    "colnames = ['user_id', 'sleep_wkdy', 'sleep_wknd', 'birth',\n",
    "           'Q1_woman', 'Q1_man', 'Q1_other',\n",
    "           'Q2_meeting', 'Q2_movie', 'Q2_waiting', 'Q2_car', 'Q2_other', 'Q2_never',\n",
    "           'Q3_5to7', 'Q3_3to4', 'Q3_1to2', 'Q3_rarely',\n",
    "           'Q4_quantity', 'Q4_quality', 'Q4_learn', 'Q4_other', 'Q4_idk',\n",
    "           'Q5_falling', 'Q5_staying', 'Q5_wakingearly', 'Q5_wakingtired', 'Q5_none',\n",
    "           'Q6_5to7', 'Q6_3to4', 'Q6_1to2', 'Q6_rarely',\n",
    "           'Q7_yes', 'Q7_no',\n",
    "           'Q8_yes', 'Q8_no',\n",
    "           'Q9_once', 'Q9_twice', 'Q9_three', 'Q9_overthree',\n",
    "           'Q10_verycold', 'Q10_cool', 'Q10_littlewarm', 'Q10_verywarm',\n",
    "           'Q11_superquiet', 'Q11_prettyquiet', 'Q11_littlenoisy', 'Q11_verynoisy',\n",
    "           'Q12_completelydark', 'Q12_prettydark', 'Q12_littlebright', 'Q12_verybright',\n",
    "           'Q13_yes', 'Q13_no',\n",
    "           'Q14_on', 'Q14_vibrate', 'Q14_donotdisturb', 'Q14_airplane', 'Q14_off',\n",
    "           'Q15_yes', 'Q15_no',\n",
    "           'Q16_never', 'Q16_rarely', 'Q16_sometimes', 'Q16_often', 'Q16_veryoften']\n",
    "\n",
    "# unique user ids\n",
    "unique_user_ids = answers_wide['user_id'].unique()\n",
    "\n",
    "users_wide = pd.DataFrame(index = unique_user_ids, columns = colnames)\n",
    "\n",
    "# fill in user_id\n",
    "users_wide['user_id'] = unique_user_ids\n",
    "\n",
    "# fill in hours of sleep weekday\n",
    "temp = answers_wide[answers_wide['question_id'] == 55][['user_id', 'question_id', 'value']]\n",
    "temp_agg = temp.groupby(['user_id', 'question_id']).agg(lambda x:x.value_counts().index[0])\n",
    "users_wide['sleep_wkdy'] = np.asarray(temp_agg)\n",
    "\n",
    "# fill in hours of sleep weekend\n",
    "temp = answers_wide[answers_wide['question_id'] == 56][['user_id', 'question_id', 'value']]\n",
    "temp_agg = temp.groupby(['user_id', 'question_id']).agg(lambda x:x.value_counts().index[0])\n",
    "users_wide['sleep_wknd'] = np.asarray(temp_agg)\n",
    "\n",
    "# fill in birth year\n",
    "temp = answers_wide[answers_wide['question_id'] == 57][['user_id', 'question_id', 'value']]\n",
    "temp = temp[~(temp.value.str.len() != 4)]\n",
    "temp.value = temp.value.astype(float) # convert to float\n",
    "temp = temp[temp.value > 1000]\n",
    "temp.value = temp.value.astype(int) # convert to int\n",
    "temp = temp.drop_duplicates(subset='user_id', keep=\"last\")\n",
    "# join on user_id\n",
    "users_wide = pd.merge(temp, users_wide, on='user_id', how='inner')\n",
    "users_wide = users_wide.drop(columns=['question_id', 'birth'])\n",
    "users_wide = users_wide.rename(columns = {'value':'age'})\n",
    "# subtract birth year from current year (2018)\n",
    "users_wide['age'] = 2018 - users_wide['age']\n"
   ]
  },
  {
   "cell_type": "code",
   "execution_count": null,
   "metadata": {},
   "outputs": [],
   "source": [
    "# only use users that are in users_wide in answers_wide\n",
    "answers_wide = answers_wide[answers_wide['user_id'].isin(users_wide.user_id)]\n",
    "# only use questions that are categorical questions\n",
    "categorical_q = range(58, 74)\n",
    "answers_wide = answers_wide[answers_wide['question_id'].isin(categorical_q)]"
   ]
  },
  {
   "cell_type": "markdown",
   "metadata": {},
   "source": [
    "# Populate users' answers wide dataframe"
   ]
  },
  {
   "cell_type": "code",
   "execution_count": null,
   "metadata": {},
   "outputs": [],
   "source": [
    "users_wide = users_wide.set_index('user_id')"
   ]
  },
  {
   "cell_type": "code",
   "execution_count": null,
   "metadata": {},
   "outputs": [],
   "source": [
    "# group users by user_id\n",
    "\n",
    "gp = answers_wide.groupby('user_id')\n",
    "\n",
    "# get number of possible answers for each multiple choice question\n",
    "num_ans = answer_key[answer_key['question_id'].isin(answers_wide.question_id.unique())]\n",
    "num_ans = np.array(num_ans['question_id'].value_counts().sort_index())\n",
    "\n",
    "# get column names\n",
    "cols = list(users_wide)\n",
    "\n",
    "f = FloatProgress(min=0, max=len(gp.groups)) # instantiate progress bar\n",
    "display(f) # display the bar\n",
    "\n",
    "start = time.time()\n",
    "for grp in gp.groups:\n",
    "    tmp = answers_wide.loc[gp.groups[grp]]\n",
    "    tmp['ans_index'] = 0\n",
    "    \n",
    "    for i in range(len(tmp)): # loops through current user answers\n",
    "        # current question_id\n",
    "        tmp_qid = tmp.iloc[i, 1]\n",
    "        # current answer (value)\n",
    "        tmp_val = tmp.iloc[i, 2]\n",
    "        # get question df for current question\n",
    "        tmp_q_df = answer_key_dict[str(tmp_qid)]\n",
    "        # how many possible answers in current question\n",
    "        tmp_total = len(tmp_q_df)\n",
    "        # index of location for this question\n",
    "        tmp.iloc[i, 3] = list(tmp_q_df.value).index(tmp_val)\n",
    "        \n",
    "        # populate users_wide\n",
    "        if tmp['question_id'].iloc[i] in categorical_q:\n",
    "            tmp_qid = tmp['question_id'].iloc[i]\n",
    "            # index of start of this qid in users_wide\n",
    "            tmp_start = 3 + sum(num_ans[:tmp_qid - 58])\n",
    "            # fill in with a 1\n",
    "            users_wide.loc[grp, cols[tmp_start + tmp.iloc[i, 3]]] = 1\n",
    "    \n",
    "    f.value += 1 # signal to increment the progress bar\n",
    "    time.sleep(.1)\n",
    "        \n",
    "end = time.time()\n",
    "\n",
    "print(end - start)\n"
   ]
  },
  {
   "cell_type": "markdown",
   "metadata": {},
   "source": [
    "Create age group column by binning users' age. Four groups: 1-18, 19-30, 31-40, 41+."
   ]
  },
  {
   "cell_type": "code",
   "execution_count": null,
   "metadata": {},
   "outputs": [],
   "source": [
    "# bin age\n",
    "\n",
    "low = 18\n",
    "med = 30\n",
    "high = 40\n",
    "\n",
    "def binning(x, cut_points, labels=None):\n",
    "    # min and max of x\n",
    "    minval = x.min()\n",
    "    maxval = x.max()\n",
    "    \n",
    "    # make list with min, max, and cut_points\n",
    "    breaks = [minval] + cut_points + [maxval]\n",
    "    \n",
    "    # if no labels given, use default\n",
    "    if not labels:\n",
    "        labels = range(len(cut_points) + 1)\n",
    "    \n",
    "    # bin using pandas cut function\n",
    "    x_bins = pd.cut(x, bins=breaks, labels = labels, include_lowest = True)\n",
    "    return x_bins\n",
    "\n",
    "cut_points = [low, med, high]\n",
    "labels = ['1-18', '19-30', '31-40', '41+']\n",
    "users_wide['age_group'] = binning(users_wide['age'], cut_points, labels)\n"
   ]
  },
  {
   "cell_type": "code",
   "execution_count": null,
   "metadata": {},
   "outputs": [],
   "source": [
    "# fill NaN with 0 and save dataframe to csv\n",
    "users_wide = users_wide.fillna(0)\n",
    "users_wide.to_csv('users_wide.csv')"
   ]
  },
  {
   "cell_type": "markdown",
   "metadata": {},
   "source": [
    "# Clean sleep tracker data"
   ]
  },
  {
   "cell_type": "code",
   "execution_count": 13,
   "metadata": {},
   "outputs": [],
   "source": [
    "# read in data\n",
    "sleep = pd.read_csv(\"/Users/Maime/Dropbox/Me/Insight/Shleep/user_data/sleep_tracker.csv\")"
   ]
  },
  {
   "cell_type": "markdown",
   "metadata": {},
   "source": [
    "### Datetime feature engineering"
   ]
  },
  {
   "cell_type": "code",
   "execution_count": 14,
   "metadata": {},
   "outputs": [
    {
     "data": {
      "text/html": [
       "<div>\n",
       "<style scoped>\n",
       "    .dataframe tbody tr th:only-of-type {\n",
       "        vertical-align: middle;\n",
       "    }\n",
       "\n",
       "    .dataframe tbody tr th {\n",
       "        vertical-align: top;\n",
       "    }\n",
       "\n",
       "    .dataframe thead th {\n",
       "        text-align: right;\n",
       "    }\n",
       "</style>\n",
       "<table border=\"1\" class=\"dataframe\">\n",
       "  <thead>\n",
       "    <tr style=\"text-align: right;\">\n",
       "      <th></th>\n",
       "      <th>user_id</th>\n",
       "      <th>hours</th>\n",
       "      <th>rating</th>\n",
       "      <th>date_only</th>\n",
       "    </tr>\n",
       "  </thead>\n",
       "  <tbody>\n",
       "    <tr>\n",
       "      <th>0</th>\n",
       "      <td>7</td>\n",
       "      <td>7.5</td>\n",
       "      <td>ok</td>\n",
       "      <td>2017-08-04</td>\n",
       "    </tr>\n",
       "    <tr>\n",
       "      <th>1</th>\n",
       "      <td>12</td>\n",
       "      <td>6.5</td>\n",
       "      <td>ok</td>\n",
       "      <td>2017-08-04</td>\n",
       "    </tr>\n",
       "    <tr>\n",
       "      <th>2</th>\n",
       "      <td>20</td>\n",
       "      <td>8.0</td>\n",
       "      <td>ok</td>\n",
       "      <td>2017-08-04</td>\n",
       "    </tr>\n",
       "    <tr>\n",
       "      <th>3</th>\n",
       "      <td>8</td>\n",
       "      <td>8.0</td>\n",
       "      <td>great</td>\n",
       "      <td>2017-08-04</td>\n",
       "    </tr>\n",
       "    <tr>\n",
       "      <th>4</th>\n",
       "      <td>24</td>\n",
       "      <td>8.0</td>\n",
       "      <td>great</td>\n",
       "      <td>2017-08-04</td>\n",
       "    </tr>\n",
       "  </tbody>\n",
       "</table>\n",
       "</div>"
      ],
      "text/plain": [
       "   user_id  hours rating   date_only\n",
       "0        7    7.5     ok  2017-08-04\n",
       "1       12    6.5     ok  2017-08-04\n",
       "2       20    8.0     ok  2017-08-04\n",
       "3        8    8.0  great  2017-08-04\n",
       "4       24    8.0  great  2017-08-04"
      ]
     },
     "execution_count": 14,
     "metadata": {},
     "output_type": "execute_result"
    }
   ],
   "source": [
    "# convert to datatime\n",
    "sleep['date'] = pd.to_datetime(sleep[['created_at']].stack()).unstack()\n",
    "# get date only\n",
    "sleep['date_only'] = sleep['date'].dt.date\n",
    "\n",
    "sleep = sleep.drop(columns = ['id', 'created_at', 'updated_at', 'date'])\n",
    "sleep.head()"
   ]
  },
  {
   "cell_type": "code",
   "execution_count": null,
   "metadata": {},
   "outputs": [],
   "source": [
    "# check for duplicates\n",
    "len(sleep)\n",
    "sleep = sleep._duplicates()\n",
    "len(sleep)\n",
    "\n",
    "# set index using user_id\n",
    "sleep = sleep.set_index('user_id')\n",
    "sleep['user_id'] = sleep.index.values"
   ]
  },
  {
   "cell_type": "markdown",
   "metadata": {},
   "source": [
    "### Create new features 'days in app' and 'number of sleep logs'"
   ]
  },
  {
   "cell_type": "code",
   "execution_count": null,
   "metadata": {},
   "outputs": [],
   "source": [
    "# create new column 'days_in_app' and 'num_logs' in sleep\n",
    "sleep['first_log'] = 0\n",
    "sleep['num_logs'] = 0\n",
    "\n",
    "# initialize lists\n",
    "days_in_app = []\n",
    "mean_hours = []\n",
    "mode_ratings = []\n",
    "\n",
    "gp = sleep.groupby('user_id')\n",
    "\n",
    "f = FloatProgress(min=0, max=len(gp.groups)) # instantiate progress bar\n",
    "display(f) # display the bar\n",
    "\n",
    "start = time.time()\n",
    "for user in gp.groups:\n",
    "    # current user's sleep tracker data\n",
    "    tmp = sleep.loc[[user]]\n",
    "    # first day current user logged sleep\n",
    "    tmp_start = tmp.iloc[0, 2]\n",
    "    sleep.loc[user, 'first_log'] = tmp_start\n",
    "    # how many logs at current day\n",
    "    sleep.loc[user, 'num_logs'] = np.array(range(1, len(tmp) + 1))\n",
    "    # last sleep log entry\n",
    "    days_in_app.append(tmp.iloc[-1, 5].days)\n",
    "    # mean hours\n",
    "    mean_hours.append(np.mean(tmp['hours']))\n",
    "    # mode rating\n",
    "    mode_ratings.append(tmp['rating'].mode())\n",
    "        \n",
    "    f.value += 1 # signal to increment the progress bar\n",
    "    time.sleep(.1)\n",
    "        \n",
    "end = time.time()\n",
    "\n",
    "print(end - start) # took about 45 min to run"
   ]
  },
  {
   "cell_type": "code",
   "execution_count": null,
   "metadata": {},
   "outputs": [],
   "source": [
    "# subtract first log date from date stamp to get days since\n",
    "sleep['days_since'] = sleep['date_only'] - sleep['first_log'] + 1\n",
    "\n",
    "# convert days_since to int\n",
    "sleep['days_since'] = sleep['days_since'].dt.days\n",
    "\n",
    "# order sleep dataframe by user_id and date\n",
    "sleep = sleep.sort_values(['user_id', 'date_only'])"
   ]
  },
  {
   "cell_type": "code",
   "execution_count": null,
   "metadata": {},
   "outputs": [],
   "source": [
    "# create new column in sleep that gives day of week \n",
    "sleep['day_of_week'] = pd.to_datetime(sleep['date_only'])\n",
    "sleep['day_of_week'] = sleep['day_of_week'].dt.weekday_name\n",
    "\n",
    "# create new column in sleep that is 1 if weekday, 0 if weekend\n",
    "sleep['weekday'] = sleep['day_of_week'].isin(['Monday', 'Tuesday', 'Wednesday', 'Thursday', 'Friday'])\n",
    "sleep['weekday'] = sleep['weekday'].astype(int)"
   ]
  },
  {
   "cell_type": "markdown",
   "metadata": {},
   "source": [
    "### Remove users who only tried the sleep tracker once, and that we do not have demographic data for. \n",
    "\n",
    "We only want to include in the linear mixed-effects the users who used the tracker more than once, and we have gender and age for. This is because if they only use the sleep tracker once, there is no information about the trend of their hours of sleep based on their sleep tracker usage."
   ]
  },
  {
   "cell_type": "code",
   "execution_count": null,
   "metadata": {},
   "outputs": [],
   "source": [
    "# drop rows where hours is missing\n",
    "df = sleep\n",
    "sleep = sleep.na(subset=['hours'])\n",
    "\n",
    "# include users with pre-assessment data AND sleep tracker data\n",
    "users = np.unique(df.index.values)\n",
    "shared_users = np.intersect1d(users_wide.index.values, users) \n",
    "df = df.loc[shared_users]\n",
    "\n",
    "# get age, sleep_wkdy, sleep_wknd from pre-assessment\n",
    "age = pd.DataFrame(users_wide.loc[shared_users, 'age'])\n",
    "age['user_id'] = age.index.values\n",
    "sleep_wkdy = pd.DataFrame(users_wide.loc[shared_users, 'sleep_wkdy'])\n",
    "sleep_wkdy['user_id'] = sleep_wkdy.index.values\n",
    "sleep_wknd = pd.DataFrame(users_wide.loc[shared_users, 'sleep_wknd'])\n",
    "sleep_wknd['user_id'] = sleep_wknd.index.values\n",
    "\n",
    "df_lme = df.merge(age, how = 'left', on='user_id')\n",
    "df_lme = df_lme.merge(sleep_wkdy, how = 'left', on='user_id')\n",
    "df_lme = df_lme.merge(sleep_wknd, how = 'left', on='user_id')\n"
   ]
  },
  {
   "cell_type": "markdown",
   "metadata": {},
   "source": [
    "Add days since last entry column."
   ]
  },
  {
   "cell_type": "code",
   "execution_count": null,
   "metadata": {},
   "outputs": [],
   "source": [
    "# add days since last entry column to sleep log\n",
    "df_lme['days_since_last'] = 0\n",
    "\n",
    "gp = df_lme.groupby('user_id')\n",
    "\n",
    "f = FloatProgress(min=0, max=len(gp.groups)) # instantiate progress bar\n",
    "display(f) # display the bar\n",
    "\n",
    "start = time.time()\n",
    "for user in gp.groups:\n",
    "    # current user's df\n",
    "    tmp = df_lme.loc[[user]]\n",
    "    # days since last sleep log\n",
    "    days_since_last = np.ediff1d(tmp['days_since'], to_begin=0)\n",
    "    df_lme.loc[user, 'days_since_last'] = days_since_last\n",
    "\n",
    "    f.value += 1 # signal to increment the progress bar\n",
    "    time.sleep(.1)\n",
    "        \n",
    "end = time.time()\n",
    "\n",
    "\n",
    "print(end - start)\n"
   ]
  },
  {
   "cell_type": "code",
   "execution_count": null,
   "metadata": {},
   "outputs": [],
   "source": [
    "# save sleep log to csv\n",
    "df_lme.to_csv('lme_sleep.csv')"
   ]
  },
  {
   "cell_type": "code",
   "execution_count": null,
   "metadata": {},
   "outputs": [],
   "source": [
    "# remove the users who only tried sleep tracker once\n",
    "df_lme_nodrop = df_lme[df_lme['days_since'] != 1]\n",
    "df_lme_nodrop[df_lme_nodrop['days_since_last'] == 0] = 1\n",
    "\n",
    "# save sleep log without users who dropped out to csv\n",
    "df_lme_nodrop.to_csv('lme_nodrop.csv')"
   ]
  },
  {
   "cell_type": "markdown",
   "metadata": {},
   "source": [
    "# Reshape sleep tracker data from long to wide format\n",
    "\n",
    "For the Linear mixed-effects model to measure association between sleep tracker usage and more sleep, the data needs to be in long format. <br>\n",
    "For the engagement prediction model, the data needs to be in wide format. "
   ]
  },
  {
   "cell_type": "code",
   "execution_count": null,
   "metadata": {},
   "outputs": [],
   "source": [
    "# initialize wide dataframe\n",
    "unique_user_ids = sleep['user_id'].unique()\n",
    "colnames = ['user_id', 'log_counts','days_in_app', 'mean_hours', 'mode_ratings']\n",
    "sleep_wide = pd.DataFrame(index = unique_user_ids, columns = colnames)\n",
    "\n",
    "# fill in user_id\n",
    "sleep_wide['user_id'] = unique_user_ids\n",
    "\n",
    "# fixing mode_ratings from a series of objects to a list of strings\n",
    "mode_ratings2 = []\n",
    "for i in mode_ratings:\n",
    "    try:\n",
    "        mode_ratings2.append(i[0])\n",
    "    except:\n",
    "        mode_ratings2.append('None')\n",
    "\n",
    "# fill in log_counts, days_in_app, mean_hours, mode_ratings\n",
    "sleep_wide['log_counts'] = log_counts\n",
    "sleep_wide['days_in_app'] = days_in_app\n",
    "sleep_wide['mean_hours'] = mean_hours\n",
    "sleep_wide['mode_ratings'] = mode_ratings2\n",
    "\n",
    "# add 1 to days_in_app\n",
    "sleep_wide['days_in_app'] = sleep_wide['days_in_app'] + 1\n",
    "\n",
    "# create new column of average number of logs per day\n",
    "sleep_wide['logs_per_day'] = sleep_wide['log_counts']/sleep_wide['days_in_app']\n",
    "\n",
    "# remove the few rows where days_in_app is still 0\n",
    "sleep_wide = sleep_wide[sleep_wide.days_in_app != 0]"
   ]
  },
  {
   "cell_type": "markdown",
   "metadata": {},
   "source": [
    "### Add users account data to sleep tracker data in wide format"
   ]
  },
  {
   "cell_type": "code",
   "execution_count": null,
   "metadata": {},
   "outputs": [],
   "source": [
    "# only use columns that we want\n",
    "users_anon = users_anon[['id', 'created_at', 'timezone', 'show_notification_suggestion', 'GDPR_accepted']]\n"
   ]
  },
  {
   "cell_type": "code",
   "execution_count": null,
   "metadata": {},
   "outputs": [],
   "source": [
    "# extract date time from created_at\n",
    "users_anon['create_date'] = pd.to_datetime(users_anon[['created_at']].stack()).unstack()\n",
    "users_anon['create_date'] = users_anon['create_date'].dt.date\n",
    "\n",
    "# delete original created_at column\n",
    "users_anon = users_anon.drop(columns = ['created_at'])"
   ]
  },
  {
   "cell_type": "code",
   "execution_count": null,
   "metadata": {},
   "outputs": [],
   "source": [
    "# add a new column to sleep_wide with number of days we have data for, per user (current date - create_date)\n",
    "mostrecent_date = max(sleep['date_only'])\n",
    "sleep_wide['account_age'] = (pd.to_datetime(mostrecent_date) - pd.to_datetime(sleep_wide['create_date'])).dt.days"
   ]
  },
  {
   "cell_type": "code",
   "execution_count": null,
   "metadata": {},
   "outputs": [],
   "source": [
    "# join with sleep_wide on user_id and id\n",
    "sleep_wide = sleep_wide.merge(users_anon, left_on = 'user_id', right_on = 'id', how = 'inner')\n",
    "\n",
    "# reset the index and  'id'\n",
    "sleep_wide = sleep_wide.set_index('user_id')\n",
    "sleep_wide['user_id'] = sleep_wide.index.values\n",
    "sleep_wide = sleep_wide.(columns = ['id'])"
   ]
  },
  {
   "cell_type": "code",
   "execution_count": null,
   "metadata": {},
   "outputs": [],
   "source": [
    "# save sleep tracker dataframe in wide format to csv\n",
    "sleep_wide.to_csv('sleep_tracker_wide.csv')"
   ]
  }
 ],
 "metadata": {
  "kernelspec": {
   "display_name": "Python 3",
   "language": "python",
   "name": "python3"
  },
  "language_info": {
   "codemirror_mode": {
    "name": "ipython",
    "version": 3
   },
   "file_extension": ".py",
   "mimetype": "text/x-python",
   "name": "python",
   "nbconvert_exporter": "python",
   "pygments_lexer": "ipython3",
   "version": "3.6.4"
  }
 },
 "nbformat": 4,
 "nbformat_minor": 2
}
